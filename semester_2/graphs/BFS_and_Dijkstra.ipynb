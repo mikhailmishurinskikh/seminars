{
 "cells": [
  {
   "cell_type": "code",
   "execution_count": 1,
   "id": "52376bee",
   "metadata": {},
   "outputs": [],
   "source": [
    "inf = float('inf')\n",
    "\n",
    "def construct_adj_list(edge_list, vert_num):\n",
    "    adj_list = [[] for i in range(vert_num)]\n",
    "    for edge in edge_list:\n",
    "        adj_list[edge[0]].append(edge[1])\n",
    "    return adj_list\n",
    "\n",
    "def construct_adj_matrix(edge_list, weight_list, vert_num):\n",
    "    adj_matrix = [[inf for i in range(vert_num)] for j in range(vert_num)]\n",
    "    \n",
    "    for edge, weight in zip(edge_list, weight_list):\n",
    "        adj_matrix[edge[0]][edge[1]] = weight\n",
    "    return adj_matrix"
   ]
  },
  {
   "cell_type": "code",
   "execution_count": 2,
   "id": "d1d89368",
   "metadata": {},
   "outputs": [],
   "source": [
    "def bfs(adj_list, src):\n",
    "    vert_num = len(adj_list)\n",
    "    dist = [inf for i in range(vert_num)]\n",
    "    dist[src] = 0\n",
    "    \n",
    "    queue = []\n",
    "    queue.append(src)\n",
    "    \n",
    "    while queue:\n",
    "        u = queue.pop(0)\n",
    "        for v in adj_list[u]:\n",
    "            if dist[v] == inf:\n",
    "                dist[v] = dist[u] + 1\n",
    "                queue.append(v)\n",
    "    return dist"
   ]
  },
  {
   "cell_type": "code",
   "execution_count": 3,
   "id": "92a849fc",
   "metadata": {},
   "outputs": [
    {
     "data": {
      "text/plain": [
       "[0, 1, 3, 2, 4, 4, 2, 3]"
      ]
     },
     "execution_count": 3,
     "metadata": {},
     "output_type": "execute_result"
    }
   ],
   "source": [
    "edge_list = [[0,1], [1,6], [1,3], [3,2], [3,7], [7,4], [7,5], [4,2]]\n",
    "vert_num = 8\n",
    "adj_list = construct_adj_list(edge_list, vert_num)\n",
    "bfs(adj_list, 0)"
   ]
  },
  {
   "cell_type": "code",
   "execution_count": 4,
   "id": "0aadddba",
   "metadata": {},
   "outputs": [],
   "source": [
    "'''\n",
    "Мы создаем список из очередей так, чтобы следующая вершина записывалась в i-очередь,\n",
    "где i = длина пути до текущей вершины + длина ребра до следующей вершины\n",
    "Количество очередей <= (количество вершин - 1) * k\n",
    "k = максимальное по длине ребро\n",
    "'''\n",
    "def bfs_zero_k(K, adj_list, adj_matrix, src):\n",
    "    vert_num = len(adj_list)\n",
    "    dist = [inf for i in range(vert_num)]\n",
    "    used = [False for i in range(vert_num)]\n",
    "    dist[src] = 0\n",
    "    \n",
    "    queues = [[] for i in range(vert_num*K)]\n",
    "    queues[dist[src]].append(src)\n",
    "    \n",
    "    for k in range(K*vert_num):    \n",
    "        while queues[k]:\n",
    "            u = queues[k].pop(0)\n",
    "            if used[u]: continue\n",
    "            else: used[u] = True\n",
    "                \n",
    "            for v in adj_list[u]:\n",
    "                weight = adj_matrix[u][v]\n",
    "                if dist[v] > dist[u] + weight:\n",
    "                    dist[v] = dist[u] + weight\n",
    "                    queues[dist[v]].append(v)\n",
    "    return dist"
   ]
  },
  {
   "cell_type": "code",
   "execution_count": 6,
   "id": "a39a9f76",
   "metadata": {},
   "outputs": [
    {
     "data": {
      "text/plain": [
       "[0, 10, 30, 60]"
      ]
     },
     "execution_count": 6,
     "metadata": {},
     "output_type": "execute_result"
    }
   ],
   "source": [
    "edge_list = [[0,1], [1,2], [2,3]]\n",
    "weight_list = [10, 20, 30]\n",
    "vert_num = 4\n",
    "adj_list = construct_adj_list(edge_list, vert_num)\n",
    "adj_matrix = construct_adj_matrix(edge_list, weight_list, vert_num)\n",
    "bfs_zero_k(max(weight_list), adj_list, adj_matrix, 0)"
   ]
  },
  {
   "cell_type": "code",
   "execution_count": 21,
   "id": "e461796e",
   "metadata": {},
   "outputs": [
    {
     "data": {
      "text/plain": [
       "[0, 5, 19, 12, 23, 16, 8, 13]"
      ]
     },
     "execution_count": 21,
     "metadata": {},
     "output_type": "execute_result"
    }
   ],
   "source": [
    "edge_list = [[0,1], [1,6], [6,3], [1,3], [3,2], [3,7], [7,4], [7,5], [4,2]]\n",
    "vert_num = 8\n",
    "adj_list = construct_adj_list(edge_list, vert_num)\n",
    "weight_list = [5, 3, 4, 12, 7, 1, 10, 3, 2]\n",
    "adj_matrix = construct_adj_matrix(edge_list, weight_list, vert_num)\n",
    "bfs_zero_k(max(weight_list), adj_list, adj_matrix, 0)"
   ]
  },
  {
   "cell_type": "code",
   "execution_count": 51,
   "id": "d68f9d3a",
   "metadata": {},
   "outputs": [],
   "source": [
    "def Dijkstra(adj_list, adj_matrix, src):\n",
    "    vert_num = len(adj_list)\n",
    "    dist = [inf for i in range(vert_num)]\n",
    "    unused = set(range(vert_num))\n",
    "    dist[src] = 0\n",
    "    \n",
    "    while unused:\n",
    "        current_vert = min_unused(unused, dist)\n",
    "        unused.remove(current_vert)\n",
    "        \n",
    "        for next_vert in adj_list[current_vert]:\n",
    "            weight = adj_matrix[current_vert][next_vert]\n",
    "            if dist[next_vert] > dist[current_vert] + weight:\n",
    "                dist[next_vert] = dist[current_vert] + weight\n",
    "    return dist\n",
    "def min_unused(unused, dist):\n",
    "    unused_dist = [(vert, dist[vert]) for vert in unused if dist[vert] != inf]\n",
    "    N = len(unused_dist)\n",
    "    for i in range(N//2, -1, -1):\n",
    "        heapify(i, unused_dist)\n",
    "    return unused_dist[0][0]\n",
    "        \n",
    "def heapify(i, unused_dist):\n",
    "    while True:\n",
    "        left_child = 2 * i + 1\n",
    "        right_child = 2 * i + 2\n",
    "        min_child = i\n",
    "        if left_child < len(unused_dist) and unused_dist[left_child][1] < unused_dist[min_child][1]:\n",
    "            min_child = left_child\n",
    "        if right_child < len(unused_dist) and unused_dist[right_child][1] < unused_dist[min_child][1]:\n",
    "            min_child = right_child\n",
    "        if min_child == i: break\n",
    "        unused_dist[i], unused_dist[min_child] = unused_dist[min_child], unused_dist[i]\n",
    "        i = min_child"
   ]
  },
  {
   "cell_type": "code",
   "execution_count": 52,
   "id": "c9ab3524",
   "metadata": {},
   "outputs": [
    {
     "data": {
      "text/plain": [
       "[0, 5, 19, 12, 23, 16, 8, 13]"
      ]
     },
     "execution_count": 52,
     "metadata": {},
     "output_type": "execute_result"
    }
   ],
   "source": [
    "edge_list = [[0,1], [1,6], [6,3], [1,3], [3,2], [3,7], [7,4], [7,5], [4,2]]\n",
    "vert_num = 8\n",
    "adj_list = construct_adj_list(edge_list, vert_num)\n",
    "weight_list = [5, 3, 4, 12, 7, 1, 10, 3, 2]\n",
    "adj_matrix = construct_adj_matrix(edge_list, weight_list, vert_num)\n",
    "Dijkstra(adj_list, adj_matrix, 0)"
   ]
  },
  {
   "cell_type": "code",
   "execution_count": null,
   "id": "9e012f44",
   "metadata": {},
   "outputs": [],
   "source": []
  }
 ],
 "metadata": {
  "kernelspec": {
   "display_name": "Python 3 (ipykernel)",
   "language": "python",
   "name": "python3"
  },
  "language_info": {
   "codemirror_mode": {
    "name": "ipython",
    "version": 3
   },
   "file_extension": ".py",
   "mimetype": "text/x-python",
   "name": "python",
   "nbconvert_exporter": "python",
   "pygments_lexer": "ipython3",
   "version": "3.10.12"
  }
 },
 "nbformat": 4,
 "nbformat_minor": 5
}
